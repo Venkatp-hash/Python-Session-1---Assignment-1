{
 "cells": [
  {
   "cell_type": "code",
   "execution_count": null,
   "metadata": {},
   "outputs": [],
   "source": [
    "#Task 1\n",
    "#Question 2. Number range:\n",
    "\n",
    "l = []\n",
    "for x in range(2000, 3200):\n",
    "    if (x/7==0) and (x*5==0):\n",
    "        l.append(str(x))\n",
    "print (','.join(l))"
   ]
  },
  {
   "cell_type": "code",
   "execution_count": null,
   "metadata": {},
   "outputs": [],
   "source": [
    "#Question 3. Reverse the name:\n",
    "\n",
    "fname = input(\"Venkata\")\n",
    "lname = input(\"Nagendra\")\n",
    "type (lname + fname)\n",
    "print (lname + \" \" + fname)"
   ]
  },
  {
   "cell_type": "code",
   "execution_count": null,
   "metadata": {},
   "outputs": [],
   "source": [
    "#Question 4:\n",
    "\n",
    "pi = 3.14\n",
    "r= 6.0\n",
    "V= 4.0/3.0*pi* r**3\n",
    "print('The volume of the sphere is: ',V)"
   ]
  },
  {
   "cell_type": "code",
   "execution_count": null,
   "metadata": {},
   "outputs": [],
   "source": [
    "#Task 2:\n",
    "#Question 1:\n",
    "\n",
    "print(list(range(2, 50)))"
   ]
  },
  {
   "cell_type": "code",
   "execution_count": null,
   "metadata": {},
   "outputs": [],
   "source": [
    "#Question 2:\n",
    "\n",
    "n = 5;\n",
    "for i in range(n):\n",
    "    for j in range(i):\n",
    "        print('* ', end=\"\")\n",
    "    print('')\n",
    "        \n",
    "for i in range(n,0,-1):\n",
    "    for j in range(i):\n",
    "        print('* ', end=\"\")\n",
    "    print('')"
   ]
  },
  {
   "cell_type": "code",
   "execution_count": null,
   "metadata": {},
   "outputs": [],
   "source": [
    "#Question 3:\n",
    "\n",
    "name = input('AcadGild')\n",
    "for char in range(len(name)-1,-1,-1):\n",
    "    print(name[char], end='')\n",
    "print('\\n')"
   ]
  },
  {
   "cell_type": "code",
   "execution_count": 1,
   "metadata": {},
   "outputs": [
    {
     "name": "stdout",
     "output_type": "stream",
     "text": [
      "WE, THE PEOPLE OF INDIA, \n",
      "\thaving solemnly resolved to constitute India into a SOVEREIGN,! \n",
      "\t\tSOCIALIST, SECULAR, DEMOCRATIC REPUBLIC \n",
      "\t\t and to secure to all its citizens\n"
     ]
    }
   ],
   "source": [
    "#Question 4:\n",
    "\n",
    "print(\"WE, THE PEOPLE OF INDIA, \\n\\thaving solemnly resolved to constitute India into a SOVEREIGN,! \\n\\t\\tSOCIALIST, SECULAR, DEMOCRATIC REPUBLIC \\n\\t\\t and to secure to all its citizens\")"
   ]
  },
  {
   "cell_type": "code",
   "execution_count": null,
   "metadata": {},
   "outputs": [],
   "source": []
  }
 ],
 "metadata": {
  "kernelspec": {
   "display_name": "Python 3",
   "language": "python",
   "name": "python3"
  },
  "language_info": {
   "codemirror_mode": {
    "name": "ipython",
    "version": 3
   },
   "file_extension": ".py",
   "mimetype": "text/x-python",
   "name": "python",
   "nbconvert_exporter": "python",
   "pygments_lexer": "ipython3",
   "version": "3.7.3"
  }
 },
 "nbformat": 4,
 "nbformat_minor": 2
}
